{
 "cells": [
  {
   "cell_type": "code",
   "execution_count": 1,
   "id": "48a629aa",
   "metadata": {},
   "outputs": [],
   "source": [
    "from functools import reduce\n",
    "import BLAST_prob\n",
    "from BLAST_prob import seq_query, Trie, Hit"
   ]
  },
  {
   "cell_type": "markdown",
   "id": "dc2c74e2",
   "metadata": {},
   "source": [
    "# Read sequence and generate query"
   ]
  },
  {
   "cell_type": "code",
   "execution_count": 2,
   "id": "7f22bb2c",
   "metadata": {
    "scrolled": true
   },
   "outputs": [
    {
     "name": "stdout",
     "output_type": "stream",
     "text": [
      "first position in the sequence:  {'A': 0.003333333333333336, 'C': 0.99, 'G': 0.003333333333333336, 'T': 0.003333333333333336}\n",
      "overall prob for each nucleotide:  {'A': 0.2542000000000002, 'C': 0.36926666666666685, 'G': 0.1794, 'T': 0.19713333333333338}\n"
     ]
    }
   ],
   "source": [
    "SEQUENCE,SEQ_PROB, NEUC_PROB, Q_PROB = seq_query.read_sequence(demo_seq_len = 100)\n",
    "print(\"first position in the sequence: \", NEUC_PROB[0])\n",
    "print(\"overall prob for each nucleotide: \", Q_PROB)\n"
   ]
  },
  {
   "cell_type": "code",
   "execution_count": 3,
   "id": "d90504b3",
   "metadata": {
    "scrolled": true
   },
   "outputs": [
    {
     "name": "stdout",
     "output_type": "stream",
     "text": [
      "The query is taken from sequence position 16 to 25\n",
      "The generated query:  CTGTTTCCAC\n",
      "The corresponding part in the original seq:  CTGTCTCCAC\n"
     ]
    }
   ],
   "source": [
    "start_pos, query = seq_query.generate_query(SEQUENCE,SEQ_PROB,query_len=10)\n",
    "print(\"The query is taken from sequence position \" + str(start_pos) + \" to \" + str(start_pos+10-1))\n",
    "print(\"The generated query: \", query)\n",
    "print(\"The corresponding part in the original seq: \", \"\".join(SEQUENCE[start_pos:(start_pos+10)]))\n"
   ]
  },
  {
   "cell_type": "markdown",
   "id": "326b75a2",
   "metadata": {},
   "source": [
    "# Possible_Matching and the search trie\n",
    "(0, 4) => the word at this leaf starts at position 0 and scores 4\n",
    "In this demo case, all eligible words are the exact matches (score = 4), given the scoring scheme, threshold, and the word length.\n",
    "Change word_len and/or threshold to see the effect"
   ]
  },
  {
   "cell_type": "code",
   "execution_count": 4,
   "id": "282fd153",
   "metadata": {},
   "outputs": [
    {
     "name": "stdout",
     "output_type": "stream",
     "text": [
      "Finding candidates done\n",
      "Query words done\n",
      "Qualified\n",
      "Begin to build the search trie\n",
      "There are  7 possible matchings\n",
      "Branches created\n",
      "Record scores done\n",
      "Result - search trie:  {'T': {'C': {'C': {'A': [(5, 4)]}}, 'G': {'T': {'T': [(1, 4)]}}, 'T': {'C': {'C': [(4, 4)]}, 'T': {'C': [(3, 4)]}}}, 'C': {'C': {'A': {'C': [(6, 4)]}}, 'T': {'G': {'T': [(0, 4)]}}}, 'G': {'T': {'T': {'T': [(2, 4)]}}}}\n"
     ]
    }
   ],
   "source": [
    "TRIE = Trie.possible_matching(query=query,word_len=4,threshold=2)\n",
    "print(\"Result - search trie: \",TRIE.trie)"
   ]
  },
  {
   "cell_type": "markdown",
   "id": "31abf6bb",
   "metadata": {},
   "source": [
    "# Initial hit (One-hit)"
   ]
  },
  {
   "cell_type": "code",
   "execution_count": 5,
   "id": "66da24d0",
   "metadata": {
    "scrolled": true
   },
   "outputs": [
    {
     "name": "stdout",
     "output_type": "stream",
     "text": [
      "The hit matches 7 and 10 in the database sequence with the positions from 6 to 9 in query sequence with score 3.9699999999999998\n",
      "The hit matches 10 and 13 in the database sequence with the positions from 6 to 9 in query sequence with score 3.9699999999999998\n",
      "The hit matches 13 and 16 in the database sequence with the positions from 6 to 9 in query sequence with score 2.9733333333333336\n",
      "The hit matches 14 and 17 in the database sequence with the positions from 6 to 9 in query sequence with score 2.033333333333333\n",
      "The hit matches 14 and 17 in the database sequence with the positions from 5 to 8 in query sequence with score 2.033333333333333\n",
      "The hit matches 15 and 18 in the database sequence with the positions from 6 to 9 in query sequence with score 2.0366666666666666\n",
      "The hit matches 16 and 19 in the database sequence with the positions from 0 to 3 in query sequence with score 3.8\n",
      "The hit matches 17 and 20 in the database sequence with the positions from 1 to 4 in query sequence with score 2.8133333333333335\n",
      "The hit matches 17 and 20 in the database sequence with the positions from 3 to 6 in query sequence with score 2.8266666666666667\n",
      "The hit matches 18 and 21 in the database sequence with the positions from 2 to 5 in query sequence with score 2.9433333333333334\n",
      "The hit matches 19 and 22 in the database sequence with the positions from 3 to 6 in query sequence with score 2.953333333333333\n",
      "The hit matches 20 and 23 in the database sequence with the positions from 4 to 7 in query sequence with score 2.963333333333333\n",
      "The hit matches 21 and 24 in the database sequence with the positions from 5 to 8 in query sequence with score 3.96\n",
      "The hit matches 22 and 25 in the database sequence with the positions from 6 to 9 in query sequence with score 3.9699999999999998\n",
      "The hit matches 25 and 28 in the database sequence with the positions from 5 to 8 in query sequence with score 2.0\n",
      "The hit matches 26 and 29 in the database sequence with the positions from 6 to 9 in query sequence with score 2.9866666666666664\n",
      "The hit matches 41 and 44 in the database sequence with the positions from 4 to 7 in query sequence with score 2.963333333333333\n",
      "The hit matches 42 and 45 in the database sequence with the positions from 5 to 8 in query sequence with score 2.9633333333333334\n",
      "The hit matches 42 and 45 in the database sequence with the positions from 4 to 7 in query sequence with score 2.963333333333333\n",
      "The hit matches 43 and 46 in the database sequence with the positions from 6 to 9 in query sequence with score 2.9733333333333336\n",
      "The hit matches 44 and 47 in the database sequence with the positions from 6 to 9 in query sequence with score 2.9733333333333336\n",
      "The hit matches 45 and 48 in the database sequence with the positions from 5 to 8 in query sequence with score 2.9833333333333334\n",
      "The hit matches 46 and 49 in the database sequence with the positions from 6 to 9 in query sequence with score 2.986666666666667\n",
      "The hit matches 53 and 56 in the database sequence with the positions from 6 to 9 in query sequence with score 2.0033333333333334\n",
      "The hit matches 59 and 62 in the database sequence with the positions from 6 to 9 in query sequence with score 2.0033333333333334\n",
      "The hit matches 62 and 65 in the database sequence with the positions from 4 to 7 in query sequence with score 2.963333333333333\n",
      "The hit matches 63 and 66 in the database sequence with the positions from 5 to 8 in query sequence with score 3.96\n",
      "The hit matches 64 and 67 in the database sequence with the positions from 6 to 9 in query sequence with score 2.986666666666667\n",
      "The hit matches 73 and 76 in the database sequence with the positions from 4 to 7 in query sequence with score 2.9566666666666666\n",
      "The hit matches 73 and 76 in the database sequence with the positions from 3 to 6 in query sequence with score 3.9299999999999997\n",
      "The hit matches 74 and 77 in the database sequence with the positions from 4 to 7 in query sequence with score 2.956666666666667\n",
      "The hit matches 75 and 78 in the database sequence with the positions from 1 to 4 in query sequence with score 2.9433333333333334\n",
      "The hit matches 76 and 79 in the database sequence with the positions from 3 to 6 in query sequence with score 2.953333333333333\n",
      "The hit matches 77 and 80 in the database sequence with the positions from 4 to 7 in query sequence with score 2.956666666666667\n",
      "The hit matches 79 and 82 in the database sequence with the positions from 0 to 3 in query sequence with score 3.93\n",
      "The hit matches 80 and 83 in the database sequence with the positions from 1 to 4 in query sequence with score 2.9466666666666668\n",
      "The hit matches 82 and 85 in the database sequence with the positions from 6 to 9 in query sequence with score 2.0033333333333334\n",
      "The hit matches 85 and 88 in the database sequence with the positions from 3 to 6 in query sequence with score 2.953333333333333\n",
      "The hit matches 86 and 89 in the database sequence with the positions from 4 to 7 in query sequence with score 2.956666666666667\n",
      "The hit matches 88 and 91 in the database sequence with the positions from 0 to 3 in query sequence with score 3.93\n",
      "The hit matches 89 and 92 in the database sequence with the positions from 1 to 4 in query sequence with score 2.9466666666666668\n",
      "The hit matches 91 and 94 in the database sequence with the positions from 1 to 4 in query sequence with score 2.9433333333333334\n",
      "The hit matches 93 and 96 in the database sequence with the positions from 4 to 7 in query sequence with score 2.963333333333333\n",
      "The hit matches 94 and 97 in the database sequence with the positions from 5 to 8 in query sequence with score 2.9633333333333334\n",
      "The hit matches 94 and 97 in the database sequence with the positions from 4 to 7 in query sequence with score 2.963333333333333\n",
      "The hit matches 95 and 98 in the database sequence with the positions from 6 to 9 in query sequence with score 2.9733333333333336\n",
      "The hit matches 96 and 99 in the database sequence with the positions from 5 to 8 in query sequence with score 2.9833333333333334\n"
     ]
    }
   ],
   "source": [
    "ONEHIT = Hit.find_one_hit(search_trie=TRIE, sequence_prob=NEUC_PROB, word_len=4,query=query,score_threshold=2)\n",
    "for h in ONEHIT:\n",
    "    print(h)"
   ]
  },
  {
   "cell_type": "code",
   "execution_count": 6,
   "id": "109e842c",
   "metadata": {},
   "outputs": [
    {
     "name": "stdout",
     "output_type": "stream",
     "text": [
      "two-hits:\n",
      "The hit matches 16 and 23 in the database sequence with the positions from 0 to 7 in query sequence with score 6.763333333333333\n",
      "The hit matches 16 and 24 in the database sequence with the positions from 0 to 8 in query sequence with score 5.77\n",
      "The hit matches 16 and 25 in the database sequence with the positions from 0 to 9 in query sequence with score 6.72\n",
      "The hit matches 17 and 24 in the database sequence with the positions from 1 to 8 in query sequence with score 6.773333333333333\n",
      "The hit matches 17 and 25 in the database sequence with the positions from 1 to 9 in query sequence with score 7.723333333333333\n",
      "The hit matches 18 and 25 in the database sequence with the positions from 2 to 9 in query sequence with score 6.913333333333333\n"
     ]
    }
   ],
   "source": [
    "# Two-hit\n",
    "TWOHIT = Hit.find_two_hit(sequence_prob=NEUC_PROB, query=query, hits=ONEHIT, window=15, score_threshold=2)\n",
    "print(\"two-hits:\")\n",
    "for h in TWOHIT:\n",
    "    print(h)"
   ]
  },
  {
   "cell_type": "markdown",
   "id": "1110359c",
   "metadata": {},
   "source": [
    "# Ungapped extension"
   ]
  },
  {
   "cell_type": "code",
   "execution_count": 7,
   "id": "a74568cf",
   "metadata": {},
   "outputs": [
    {
     "name": "stdout",
     "output_type": "stream",
     "text": [
      "The hit matches 16 and 25 in the database sequence with the positions from 0 to 9 in query sequence with score 8.733333333333333\n",
      "The hit matches 16 and 25 in the database sequence with the positions from 0 to 9 in query sequence with score 6.739999999999999\n",
      "The hit matches 16 and 25 in the database sequence with the positions from 0 to 9 in query sequence with score 6.72\n",
      "The hit matches 16 and 25 in the database sequence with the positions from 0 to 9 in query sequence with score 8.713333333333333\n",
      "The hit matches 16 and 25 in the database sequence with the positions from 0 to 9 in query sequence with score 8.693333333333333\n",
      "The hit matches 16 and 25 in the database sequence with the positions from 0 to 9 in query sequence with score 8.433333333333334\n"
     ]
    }
   ],
   "source": [
    "UNGAP_HIT = Hit.ungapped_extension(TWOHIT, NEUC_PROB,query)\n",
    "for hit in UNGAP_HIT:\n",
    "    print(hit)"
   ]
  },
  {
   "cell_type": "markdown",
   "id": "25c94658",
   "metadata": {},
   "source": [
    "# Gapped extension"
   ]
  },
  {
   "cell_type": "code",
   "execution_count": 8,
   "id": "4cc1dacd",
   "metadata": {},
   "outputs": [
    {
     "name": "stdout",
     "output_type": "stream",
     "text": [
      "The hit matches 16 and 25 in the database sequence with the positions from 0 to 9 in query sequence with score 8.733333333333333\n",
      "The hit matches 16 and 25 in the database sequence with the positions from 0 to 9 in query sequence with score 6.739999999999999\n",
      "The hit matches 16 and 25 in the database sequence with the positions from 0 to 9 in query sequence with score 6.72\n",
      "The hit matches 16 and 25 in the database sequence with the positions from 0 to 9 in query sequence with score 8.713333333333333\n",
      "The hit matches 16 and 25 in the database sequence with the positions from 0 to 9 in query sequence with score 8.693333333333333\n",
      "The hit matches 16 and 25 in the database sequence with the positions from 0 to 9 in query sequence with score 8.433333333333334\n"
     ]
    }
   ],
   "source": [
    "GAPPED_HIT = Hit.gapped_extension(UNGAP_HIT, NEUC_PROB,query)\n",
    "for hit in GAPPED_HIT:\n",
    "    print(hit)"
   ]
  },
  {
   "cell_type": "markdown",
   "id": "fd268ac1",
   "metadata": {},
   "source": [
    "# Get the hit with the highest score as the final result"
   ]
  },
  {
   "cell_type": "code",
   "execution_count": 9,
   "id": "f6559298",
   "metadata": {},
   "outputs": [
    {
     "name": "stdout",
     "output_type": "stream",
     "text": [
      "The hit matches 16 and 25 in the database sequence with the positions from 0 to 9 in query sequence with score 8.733333333333333\n"
     ]
    }
   ],
   "source": [
    "MAX_HIT = Hit.find_max_hit(GAPPED_HIT)\n",
    "print(MAX_HIT)"
   ]
  },
  {
   "cell_type": "markdown",
   "id": "d31d920f",
   "metadata": {},
   "source": [
    "Matches the position where the query is generated from :)"
   ]
  },
  {
   "cell_type": "code",
   "execution_count": null,
   "id": "2a1c2460",
   "metadata": {},
   "outputs": [],
   "source": []
  }
 ],
 "metadata": {
  "kernelspec": {
   "display_name": "Python 3",
   "language": "python",
   "name": "python3"
  },
  "language_info": {
   "codemirror_mode": {
    "name": "ipython",
    "version": 3
   },
   "file_extension": ".py",
   "mimetype": "text/x-python",
   "name": "python",
   "nbconvert_exporter": "python",
   "pygments_lexer": "ipython3",
   "version": "3.8.8"
  }
 },
 "nbformat": 4,
 "nbformat_minor": 5
}
